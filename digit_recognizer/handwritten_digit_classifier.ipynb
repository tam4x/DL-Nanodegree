{
 "cells": [
  {
   "cell_type": "code",
   "execution_count": 1,
   "metadata": {},
   "outputs": [],
   "source": [
    "import torch\n",
    "from torch import nn\n",
    "from torch import optim\n",
    "import torch.nn.functional as F\n",
    "from torch.utils.data import DataLoader\n",
    "from torchvision import transforms\n",
    "from torchvision import datasets\n",
    "import matplotlib.pyplot as plt\n",
    "import numpy as np"
   ]
  },
  {
   "attachments": {},
   "cell_type": "markdown",
   "metadata": {},
   "source": [
    "## Creating training and test data"
   ]
  },
  {
   "cell_type": "code",
   "execution_count": 2,
   "metadata": {},
   "outputs": [
    {
     "name": "stdout",
     "output_type": "stream",
     "text": [
      "tensor(1.0002)\n"
     ]
    }
   ],
   "source": [
    "mean = 0.1377\n",
    "std = 0.3125\n",
    "transform_norm = transforms.Compose([\n",
    "    transforms.ToTensor(),\n",
    "    transforms.Normalize(mean, std)\n",
    "])\n",
    "\n",
    "\n",
    "train_data = datasets.MNIST(\"data/\", train = True, transform = transform_norm, download = True)\n",
    "test_data = datasets.MNIST(\"data/\", train = False, transform = transform_norm)\n",
    "\n",
    "# the data could be flattend here, but I will include the flatten function in my DNN Mode\n",
    "\n",
    "print(torch.std(train_data[0][0]))\n",
    "\n",
    "train_dataloader = DataLoader(train_data, 32, shuffle = True)\n",
    "test_dataloader = DataLoader(test_data, 32, shuffle = False)\n"
   ]
  },
  {
   "attachments": {},
   "cell_type": "markdown",
   "metadata": {},
   "source": [
    "The data needs to be preprocessed, that means flattend and turned into tensors. Normalization improves the performance of the data, so it should be used in the transformation.\n",
    "The data needs to be flattend, because we use linear layers that use 2 1D coloumb vectors for the weights and input values and a bias for computation. That means linear layers wont work for matrices such as images, so they have to be turned into a 1D Array. Convolutional layers would work for matrices, but the computation is different.\n",
    "The data needs to be turned into tensors so that we can use it for further computation and all the functionality of Pytorch\n"
   ]
  },
  {
   "attachments": {},
   "cell_type": "markdown",
   "metadata": {},
   "source": [
    "## Visualizing Data"
   ]
  },
  {
   "cell_type": "code",
   "execution_count": 3,
   "metadata": {},
   "outputs": [
    {
     "data": {
      "image/png": "[encoded data removed]",
      "text/plain": [
       "<Figure size 576x576 with 9 Axes>"
      ]
     },
     "metadata": {
      "needs_background": "light"
     },
     "output_type": "display_data"
    }
   ],
   "source": [
    "figure = plt.figure(figsize=(8, 8))\n",
    "cols, rows = 3, 3\n",
    "for i in range(1, cols * rows + 1):\n",
    "    sample_idx = torch.randint(len(train_data), size=(1,)).item()\n",
    "    img, label = train_data[sample_idx]\n",
    "    figure.add_subplot(rows, cols, i)\n",
    "    plt.title(f\"Size: {(img.shape)[1]}x{(img.shape)[2]}, Number: {label}\")\n",
    "    plt.axis(\"off\")\n",
    "    plt.imshow(img.squeeze(dim=0), cmap=\"gray\")\n",
    "plt.show()"
   ]
  },
  {
   "attachments": {},
   "cell_type": "markdown",
   "metadata": {},
   "source": [
    "## Creating the NN Model"
   ]
  },
  {
   "cell_type": "code",
   "execution_count": 4,
   "metadata": {},
   "outputs": [],
   "source": [
    "class Digits(nn.Module):\n",
    "    def __init__(self):\n",
    "        super().__init__()\n",
    "        self.nn = nn.Sequential(\n",
    "            nn.Flatten(),\n",
    "            nn.Linear(784, 224),\n",
    "            nn.ReLU(),\n",
    "            nn.Linear(224, 112),\n",
    "            nn.ReLU(),\n",
    "            nn.Linear(112, 28),\n",
    "            nn.ReLU(),\n",
    "            nn.Linear(28, 10),\n",
    "            nn.Softmax(dim = 1)\n",
    "        )\n",
    "\n",
    "    def forward(self, x):\n",
    "        \n",
    "        return self.nn(x)\n",
    "        \n",
    "\n"
   ]
  },
  {
   "cell_type": "code",
   "execution_count": 5,
   "metadata": {},
   "outputs": [
    {
     "name": "stdout",
     "output_type": "stream",
     "text": [
      "tensor([1])\n",
      "tensor([5, 7, 3, 9, 3, 6, 1, 1, 9, 3, 2, 9, 7, 4, 4, 7, 0, 0, 1, 5, 1, 7, 1, 7,\n",
      "        0, 6, 4, 7, 0, 6, 2, 1])\n"
     ]
    }
   ],
   "source": [
    "net = Digits()\n",
    "print((torch.argmax(net(train_data[0][0]), dim = 1)))\n",
    "data = list(train_dataloader)[0]\n",
    "img, label = data\n",
    "print(label)"
   ]
  },
  {
   "cell_type": "code",
   "execution_count": 6,
   "metadata": {},
   "outputs": [
    {
     "data": {
      "text/plain": [
       "device(type='cpu')"
      ]
     },
     "execution_count": 6,
     "metadata": {},
     "output_type": "execute_result"
    }
   ],
   "source": [
    "device = torch.device(\"cuda\" if torch.cuda.is_available() else \"cpu\")\n",
    "device"
   ]
  },
  {
   "attachments": {},
   "cell_type": "markdown",
   "metadata": {},
   "source": [
    "## Seting up the training "
   ]
  },
  {
   "cell_type": "code",
   "execution_count": 7,
   "metadata": {},
   "outputs": [],
   "source": [
    "loss_fn = nn.CrossEntropyLoss()\n",
    "optimizer = optim.SGD(net.parameters(), lr = 0.1)"
   ]
  },
  {
   "cell_type": "code",
   "execution_count": 8,
   "metadata": {},
   "outputs": [
    {
     "name": "stdout",
     "output_type": "stream",
     "text": [
      "Epoch0: train accuaracy = 76.55%, train loss: 1.71041\n",
      "Epoch0: test accuaracy = 92.64%, test loss: 1.53916\n",
      "Epoch1: train accuaracy = 93.71%, train loss: 1.52723\n",
      "Epoch1: test accuaracy = 95.13%, test loss: 1.51105\n",
      "Epoch2: train accuaracy = 95.47%, train loss: 1.50844\n",
      "Epoch2: test accuaracy = 96.11%, test loss: 1.50140\n",
      "Epoch3: train accuaracy = 96.38%, train loss: 1.49854\n",
      "Epoch3: test accuaracy = 96.32%, test loss: 1.49887\n",
      "Epoch4: train accuaracy = 96.94%, train loss: 1.49289\n",
      "Epoch4: test accuaracy = 96.73%, test loss: 1.49418\n"
     ]
    }
   ],
   "source": [
    "epoch = 5\n",
    "train_history = []\n",
    "test_history = []\n",
    "for e in range(epoch):\n",
    "    net.train()\n",
    "    train_loss = 0\n",
    "    train_acc = 0\n",
    "    for i, data in enumerate(train_dataloader):\n",
    "        img, label = data\n",
    "        \n",
    "\n",
    "        output = net(img)\n",
    "        loss = loss_fn(output, label)\n",
    "        pred_y = torch.argmax(output, dim = 1)\n",
    "\n",
    "        train_loss += loss\n",
    "        correct = torch.eq(label, pred_y).sum().item()\n",
    "        acc = (correct / len(pred_y)) * 100 \n",
    "        train_acc += acc\n",
    "\n",
    "        optimizer.zero_grad()\n",
    "        loss.backward()\n",
    "        optimizer.step()\n",
    "        \n",
    "        \n",
    "        \n",
    "    train_loss /= len(train_dataloader)\n",
    "    train_acc /= len(train_dataloader)\n",
    "    print(f\"Epoch{e}: train accuaracy = {train_acc:.2F}%, train loss: {train_loss:.5f}\")\n",
    "\n",
    "    net.eval()\n",
    "    test_loss = 0\n",
    "    test_acc = 0\n",
    "    with torch.inference_mode():\n",
    "        for i, data in enumerate(test_dataloader):\n",
    "            img, label = data\n",
    "            output = net(img)\n",
    "            pred_output = torch.argmax(output, dim = 1)\n",
    "            loss = loss_fn(output, label)\n",
    "            test_loss += loss.item()\n",
    "            correct = torch.eq(label, pred_output).sum().item()\n",
    "            acc = (correct / len(pred_output)) * 100 \n",
    "            test_acc += acc\n",
    "        \n",
    "    test_loss /= len(test_dataloader)\n",
    "    test_acc /= len(test_dataloader)\n",
    "    print(f\"Epoch{e}: test accuaracy = {test_acc:.2F}%, test loss: {test_loss:.5f}\")\n",
    "    "
   ]
  },
  {
   "attachments": {},
   "cell_type": "markdown",
   "metadata": {},
   "source": [
    "## This code is from the website:\n",
    "https://www.learnpytorch.io/03_pytorch_computer_vision/#9-make-and-evaluate-random-predictions-with-best-model\n",
    "Chapter 3.9"
   ]
  },
  {
   "cell_type": "code",
   "execution_count": 15,
   "metadata": {},
   "outputs": [],
   "source": [
    "import random\n",
    "classes = train_data.classes \n",
    "test_samples = []\n",
    "test_labels = []\n",
    "for sample, label in random.sample(list(test_data), k=9):\n",
    "    test_samples.append(sample)\n",
    "    test_labels.append(label)"
   ]
  },
  {
   "cell_type": "code",
   "execution_count": 16,
   "metadata": {},
   "outputs": [],
   "source": [
    "pred_probs = []\n",
    "net.eval()\n",
    "with torch.inference_mode():\n",
    "    for sample in test_samples:\n",
    "           \n",
    "        sample = torch.unsqueeze(sample, dim=0)\n",
    "\n",
    "        pred_logit = net(sample)\n",
    "\n",
    "            # Get prediction probability (logit -> prediction probability)\n",
    "        pred_prob = torch.softmax(pred_logit.squeeze(), dim=0)\n",
    "\n",
    "        pred_probs.append(pred_prob)\n",
    "            \n",
    "    # Stack the pred_probs to turn list into a tensor\n",
    "pred_probs = torch.stack(pred_probs)"
   ]
  },
  {
   "cell_type": "code",
   "execution_count": 17,
   "metadata": {},
   "outputs": [
    {
     "data": {
      "text/plain": [
       "tensor([6, 5, 0, 1, 2, 0, 2, 1, 2])"
      ]
     },
     "execution_count": 17,
     "metadata": {},
     "output_type": "execute_result"
    }
   ],
   "source": [
    "# Turn the prediction probabilities into prediction labels by taking the argmax()\n",
    "pred_classes = pred_probs.argmax(dim=1)\n",
    "pred_classes"
   ]
  },
  {
   "cell_type": "code",
   "execution_count": 18,
   "metadata": {},
   "outputs": [
    {
     "data": {
      "text/plain": [
       "([6, 5, 0, 1, 2, 0, 2, 1, 2], tensor([6, 5, 0, 1, 2, 0, 2, 1, 2]))"
      ]
     },
     "execution_count": 18,
     "metadata": {},
     "output_type": "execute_result"
    }
   ],
   "source": [
    "test_labels, pred_classes"
   ]
  },
  {
   "cell_type": "code",
   "execution_count": 19,
   "metadata": {},
   "outputs": [
    {
     "data": {
      "image/png": "[encoded data removed]",
      "text/plain": [
       "<Figure size 648x648 with 9 Axes>"
      ]
     },
     "metadata": {
      "needs_background": "light"
     },
     "output_type": "display_data"
    }
   ],
   "source": [
    "# Plot predictions\n",
    "plt.figure(figsize=(9, 9))\n",
    "nrows = 3\n",
    "ncols = 3\n",
    "for i, sample in enumerate(test_samples):\n",
    "  # Create a subplot\n",
    "  plt.subplot(nrows, ncols, i+1)\n",
    "\n",
    "  # Plot the target image\n",
    "  plt.imshow(sample.squeeze(), cmap=\"gray\")\n",
    "  \n",
    "  pred_label = classes[pred_classes[i]]\n",
    "\n",
    "  # Get the truth label \n",
    "  truth_label = classes[test_labels[i]] \n",
    "\n",
    "  # Create the title text of the plot\n",
    "  title_text = f\"Pred: {pred_label} | Truth: {truth_label}\"\n",
    "  \n",
    "  # Check for equality and change title colour accordingly\n",
    "  if pred_label == truth_label:\n",
    "      plt.title(title_text, fontsize=10, c=\"g\") \n",
    "  else:\n",
    "      plt.title(title_text, fontsize=10, c=\"r\")\n",
    "  plt.axis(False);"
   ]
  },
  {
   "cell_type": "code",
   "execution_count": 14,
   "metadata": {},
   "outputs": [],
   "source": [
    "torch.save(net,\"digit_model.pt\")"
   ]
  },
  {
   "cell_type": "code",
   "execution_count": null,
   "metadata": {},
   "outputs": [],
   "source": []
  }
 ],
 "metadata": {
  "kernelspec": {
   "display_name": "tensor",
   "language": "python",
   "name": "python3"
  },
  "language_info": {
   "codemirror_mode": {
    "name": "ipython",
    "version": 3
   },
   "file_extension": ".py",
   "mimetype": "text/x-python",
   "name": "python",
   "nbconvert_exporter": "python",
   "pygments_lexer": "ipython3",
   "version": "3.6.13 |Anaconda, Inc.| (default, Mar 16 2021, 11:37:27) [MSC v.1916 64 bit (AMD64)]"
  },
  "orig_nbformat": 4,
  "vscode": {
   "interpreter": {
    "hash": "1bf18ffdbe4116b74bc97c225286cc9952bd26326c00ed336abbb024b9d135d9"
   }
  }
 },
 "nbformat": 4,
 "nbformat_minor": 2
}
